{
 "cells": [
  {
   "cell_type": "markdown",
   "metadata": {},
   "source": [
    "### **Proyecto 1 - Consumo Energético**\n",
    "\n",
    "**Contexto**: Estás trabajando para una ciudad ficticia que busca optimizar su consumo energético y reducir costos. Los datos que analizarás incluirán consumo energético diario (kWh) por distrito, tarifas base, costos por consumo y eventos relevantes (mantenimientos, cortes de energía, actualizaciones). Esto permitirá realizar un análisis integral del consumo y su impacto financiero.\n",
    "\n",
    "---\n",
    "\n",
    "### **Tareas**\n",
    "\n",
    "#### **Generación del Dataset**  \n",
    "Ya se han generado tres datasets sintéticos que utilizarás:\n",
    "1. **Consumo Energético por Distrito**:\n",
    "   - **Columnas**: `date`, `district`, `daily_consumption_kwh`, `temperature_c`, `day_of_week`, `population`.\n",
    "   - **Descripción**: Incluye datos de consumo energético diario por distrito, influenciados por factores climáticos y demográficos.\n",
    "\n",
    "2. **Facturación por Distrito**:\n",
    "   - **Columnas**: `date`, `district`, `base_rate_per_kwh`, `daily_cost`.\n",
    "   - **Descripción**: Contiene información financiera diaria como tarifas base y costos calculados en función del consumo energético.\n",
    "\n",
    "3. **Eventos por Distrito**:\n",
    "   - **Columnas**: `event_date`, `district`, `event_type`, `description`.\n",
    "   - **Descripción**: Registra eventos relevantes como mantenimientos, cortes de energía y actualizaciones técnicas.\n",
    "\n",
    "---\n",
    "\n",
    "#### **Análisis Exploratorio de Datos (EDA)**  \n",
    "1. Visualizarás tendencias en el consumo energético por distrito.  \n",
    "2. Investigarás la relación entre temperatura, día de la semana y consumo.  \n",
    "3. Analizarás el impacto de los eventos en el consumo energético y en los costos asociados.\n",
    "\n",
    "---\n",
    "\n",
    "#### **Joins y Enriquecimiento de Datos**  \n",
    "1. Combinarás los datasets para entender las relaciones entre consumo, costos y eventos.  \n",
    "2. Identificarás patrones complejos como el impacto de eventos específicos en el costo diario y el consumo energético.\n",
    "\n",
    "---\n",
    "\n",
    "#### **Modelado Predictivo**  \n",
    "1. Implementarás un modelo de regresión para predecir el consumo diario en función de las otras variables.  \n",
    "2. Evaluarás el desempeño del modelo usando métricas como RMSE o MAE.  \n",
    "3. Explorarás cómo los eventos pueden influir en los resultados del modelo.\n",
    "\n",
    "---\n",
    "\n",
    "#### **Recomendaciones**  \n",
    "1. Redactarás al menos tres recomendaciones basadas en los resultados del análisis y el modelo predictivo.  \n",
    "2. Considerarás tanto la optimización del consumo como la reducción de costos.\n",
    "\n",
    "---\n",
    "\n",
    "#### **Subida y Evaluación**  \n",
    "1. Subirás los datasets procesados, el código del modelo y las visualizaciones para obtener la calificación.  \n",
    "2. La evaluación incluirá:\n",
    "   - Calidad del análisis.\n",
    "   - Correcta implementación de los joins.\n",
    "   - Desempeño del modelo predictivo.\n",
    "   - Claridad de las recomendaciones.\n"
   ]
  },
  {
   "cell_type": "markdown",
   "metadata": {},
   "source": [
    "## Importar librerías"
   ]
  },
  {
   "cell_type": "code",
   "execution_count": 1,
   "metadata": {},
   "outputs": [],
   "source": [
    "import pandas as pd\n",
    "import numpy as np\n",
    "import matplotlib.pyplot as plt\n",
    "import seaborn as sns\n",
    "\n",
    "from sklearn.linear_model import LinearRegression"
   ]
  },
  {
   "cell_type": "markdown",
   "metadata": {},
   "source": [
    "## Creación de funciones"
   ]
  },
  {
   "cell_type": "code",
   "execution_count": 2,
   "metadata": {},
   "outputs": [],
   "source": [
    "def preliminares(data):\n",
    "    print(data.info())\n",
    "    print(data.head())"
   ]
  },
  {
   "cell_type": "markdown",
   "metadata": {},
   "source": [
    "## Importar datos"
   ]
  },
  {
   "cell_type": "markdown",
   "metadata": {},
   "source": [
    "### Data de consumo de energía"
   ]
  },
  {
   "cell_type": "code",
   "execution_count": 3,
   "metadata": {},
   "outputs": [],
   "source": [
    "data_consumption = pd.read_csv('./datasets/energy_consumption_dataset.csv')"
   ]
  },
  {
   "cell_type": "code",
   "execution_count": 4,
   "metadata": {},
   "outputs": [
    {
     "name": "stdout",
     "output_type": "stream",
     "text": [
      "<class 'pandas.core.frame.DataFrame'>\n",
      "RangeIndex: 3650 entries, 0 to 3649\n",
      "Data columns (total 6 columns):\n",
      " #   Column                 Non-Null Count  Dtype  \n",
      "---  ------                 --------------  -----  \n",
      " 0   date                   3650 non-null   object \n",
      " 1   district               3650 non-null   object \n",
      " 2   daily_consumption_kwh  3650 non-null   float64\n",
      " 3   temperature_c          3650 non-null   float64\n",
      " 4   day_of_week            3650 non-null   object \n",
      " 5   population             3650 non-null   int64  \n",
      "dtypes: float64(2), int64(1), object(3)\n",
      "memory usage: 171.2+ KB\n",
      "None\n",
      "         date    district  daily_consumption_kwh  temperature_c day_of_week  \\\n",
      "0  2022-01-01  District A                   48.5            1.9    Saturday   \n",
      "1  2022-01-01  District B                   56.9            3.7    Saturday   \n",
      "2  2022-01-01  District C                   49.4            0.8    Saturday   \n",
      "3  2022-01-01  District D                   55.2            0.3    Saturday   \n",
      "4  2022-01-01  District E                   33.0            3.0    Saturday   \n",
      "\n",
      "   population  \n",
      "0       10000  \n",
      "1       15000  \n",
      "2       20000  \n",
      "3       12000  \n",
      "4        8000  \n"
     ]
    }
   ],
   "source": [
    "preliminares(data_consumption)"
   ]
  },
  {
   "cell_type": "code",
   "execution_count": 5,
   "metadata": {},
   "outputs": [],
   "source": [
    "# Convertir fechas a datetime\n",
    "\n",
    "data_consumption['date'] = pd.to_datetime(data_consumption['date'])"
   ]
  },
  {
   "cell_type": "code",
   "execution_count": 6,
   "metadata": {},
   "outputs": [
    {
     "data": {
      "text/html": [
       "<div>\n",
       "<style scoped>\n",
       "    .dataframe tbody tr th:only-of-type {\n",
       "        vertical-align: middle;\n",
       "    }\n",
       "\n",
       "    .dataframe tbody tr th {\n",
       "        vertical-align: top;\n",
       "    }\n",
       "\n",
       "    .dataframe thead th {\n",
       "        text-align: right;\n",
       "    }\n",
       "</style>\n",
       "<table border=\"1\" class=\"dataframe\">\n",
       "  <thead>\n",
       "    <tr style=\"text-align: right;\">\n",
       "      <th></th>\n",
       "      <th>date</th>\n",
       "      <th>daily_consumption_kwh</th>\n",
       "      <th>temperature_c</th>\n",
       "      <th>population</th>\n",
       "    </tr>\n",
       "  </thead>\n",
       "  <tbody>\n",
       "    <tr>\n",
       "      <th>count</th>\n",
       "      <td>3650</td>\n",
       "      <td>3650.000000</td>\n",
       "      <td>3650.000000</td>\n",
       "      <td>3650.000000</td>\n",
       "    </tr>\n",
       "    <tr>\n",
       "      <th>mean</th>\n",
       "      <td>2022-12-31 12:00:00</td>\n",
       "      <td>45.160384</td>\n",
       "      <td>15.001233</td>\n",
       "      <td>13000.000000</td>\n",
       "    </tr>\n",
       "    <tr>\n",
       "      <th>min</th>\n",
       "      <td>2022-01-01 00:00:00</td>\n",
       "      <td>14.500000</td>\n",
       "      <td>0.000000</td>\n",
       "      <td>8000.000000</td>\n",
       "    </tr>\n",
       "    <tr>\n",
       "      <th>25%</th>\n",
       "      <td>2022-07-02 00:00:00</td>\n",
       "      <td>31.000000</td>\n",
       "      <td>5.700000</td>\n",
       "      <td>10000.000000</td>\n",
       "    </tr>\n",
       "    <tr>\n",
       "      <th>50%</th>\n",
       "      <td>2022-12-31 12:00:00</td>\n",
       "      <td>41.400000</td>\n",
       "      <td>15.300000</td>\n",
       "      <td>12000.000000</td>\n",
       "    </tr>\n",
       "    <tr>\n",
       "      <th>75%</th>\n",
       "      <td>2023-07-02 00:00:00</td>\n",
       "      <td>55.500000</td>\n",
       "      <td>22.800000</td>\n",
       "      <td>15000.000000</td>\n",
       "    </tr>\n",
       "    <tr>\n",
       "      <th>max</th>\n",
       "      <td>2023-12-31 00:00:00</td>\n",
       "      <td>104.700000</td>\n",
       "      <td>35.000000</td>\n",
       "      <td>20000.000000</td>\n",
       "    </tr>\n",
       "    <tr>\n",
       "      <th>std</th>\n",
       "      <td>NaN</td>\n",
       "      <td>19.049388</td>\n",
       "      <td>9.750368</td>\n",
       "      <td>4195.810201</td>\n",
       "    </tr>\n",
       "  </tbody>\n",
       "</table>\n",
       "</div>"
      ],
      "text/plain": [
       "                      date  daily_consumption_kwh  temperature_c    population\n",
       "count                 3650            3650.000000    3650.000000   3650.000000\n",
       "mean   2022-12-31 12:00:00              45.160384      15.001233  13000.000000\n",
       "min    2022-01-01 00:00:00              14.500000       0.000000   8000.000000\n",
       "25%    2022-07-02 00:00:00              31.000000       5.700000  10000.000000\n",
       "50%    2022-12-31 12:00:00              41.400000      15.300000  12000.000000\n",
       "75%    2023-07-02 00:00:00              55.500000      22.800000  15000.000000\n",
       "max    2023-12-31 00:00:00             104.700000      35.000000  20000.000000\n",
       "std                    NaN              19.049388       9.750368   4195.810201"
      ]
     },
     "execution_count": 6,
     "metadata": {},
     "output_type": "execute_result"
    }
   ],
   "source": [
    "data_consumption.describe()"
   ]
  },
  {
   "cell_type": "markdown",
   "metadata": {},
   "source": [
    "## Analisis de la tabla data_consumption"
   ]
  },
  {
   "cell_type": "code",
   "execution_count": null,
   "metadata": {},
   "outputs": [
    {
     "data": {
      "image/png": "[encoded data removed]",
      "text/plain": [
       "<Figure size 1500x600 with 2 Axes>"
      ]
     },
     "metadata": {},
     "output_type": "display_data"
    }
   ],
   "source": [
    "# Distribución de datos en subplots horizontales\n",
    "fig, axs = plt.subplots(1, 2, figsize=(15, 6))\n",
    "\n",
    "# Histograma en el primer subplot\n",
    "axs[0].hist(data_consumption['daily_consumption_kwh'], edgecolor='black', bins=20)\n",
    "axs[0].set_title('Histograma de Consumo Diario (kWh)')\n",
    "axs[0].set_xlabel('Consumo diario (kWh)')\n",
    "axs[0].set_ylabel('Frecuencia')\n",
    "\n",
    "# Boxplot en el segundo subplot\n",
    "axs[1].boxplot(data_consumption['daily_consumption_kwh'], vert=False)\n",
    "axs[1].set_title('Boxplot de Consumo Diario (kWh)')\n",
    "axs[1].set_xlabel('Consumo diario (kWh)')\n",
    "\n",
    "plt.tight_layout()\n",
    "plt.show()"
   ]
  },
  {
   "cell_type": "markdown",
   "metadata": {},
   "source": [
    "Los datos estan sesgados hacia la derecha, por lo que se necesita identificar la razon de la desviacion de los datos."
   ]
  },
  {
   "cell_type": "code",
   "execution_count": null,
   "metadata": {},
   "outputs": [],
   "source": []
  }
 ],
 "metadata": {
  "kernelspec": {
   "display_name": "base",
   "language": "python",
   "name": "python3"
  },
  "language_info": {
   "codemirror_mode": {
    "name": "ipython",
    "version": 3
   },
   "file_extension": ".py",
   "mimetype": "text/x-python",
   "name": "python",
   "nbconvert_exporter": "python",
   "pygments_lexer": "ipython3",
   "version": "3.12.4"
  }
 },
 "nbformat": 4,
 "nbformat_minor": 2
}
